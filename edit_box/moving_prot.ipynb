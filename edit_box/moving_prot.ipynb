{
 "cells": [
  {
   "cell_type": "code",
   "execution_count": 1,
   "id": "2b9549a6",
   "metadata": {},
   "outputs": [],
   "source": [
    "import MDAnalysis as mda\n",
    "from MDAnalysis import transformations\n",
    "import numpy as np\n",
    "\n"
   ]
  },
  {
   "cell_type": "code",
   "execution_count": 2,
   "id": "d2472c20",
   "metadata": {},
   "outputs": [],
   "source": [
    "from scripts import move_prot"
   ]
  },
  {
   "cell_type": "code",
   "execution_count": 5,
   "id": "dba0dd60",
   "metadata": {},
   "outputs": [],
   "source": [
    "combined = move_prot.move_prot('ld0.gro', 'step5_input.gro', 20)"
   ]
  },
  {
   "cell_type": "code",
   "execution_count": 11,
   "id": "88115abe",
   "metadata": {},
   "outputs": [
    {
     "name": "stdout",
     "output_type": "stream",
     "text": [
      "                      :-) GROMACS - gmx genconf, 2022 (-:\n",
      "\n",
      "Executable:   /usr/local/gromacs/bin/gmx\n",
      "Data prefix:  /usr/local/gromacs\n",
      "Working dir:  /mnt/c/users/jay/desktop/move_prot\n",
      "Command line:\n",
      "  gmx genconf -renumber -f final_tg_LP.gro -o renumber.gro\n",
      "\n",
      "\n",
      "GROMACS reminds you: \"Way to Go Dude\" (Beavis and Butthead)\n",
      "\n"
     ]
    }
   ],
   "source": [
    "!gmx genconf -renumber -f final_tg_LP.gro -o renumber.gro\n"
   ]
  },
  {
   "cell_type": "code",
   "execution_count": 13,
   "id": "4ecf1b0c",
   "metadata": {},
   "outputs": [],
   "source": [
    "from scripts import index"
   ]
  },
  {
   "cell_type": "code",
   "execution_count": 14,
   "id": "243d1bdd",
   "metadata": {},
   "outputs": [],
   "source": [
    "index.index('gmx_data/eq2.gro','gmx_data/eq2.trr')"
   ]
  },
  {
   "cell_type": "code",
   "execution_count": null,
   "id": "6e2f1641",
   "metadata": {},
   "outputs": [],
   "source": []
  }
 ],
 "metadata": {
  "kernelspec": {
   "display_name": "Python 3 (ipykernel)",
   "language": "python",
   "name": "python3"
  },
  "language_info": {
   "codemirror_mode": {
    "name": "ipython",
    "version": 3
   },
   "file_extension": ".py",
   "mimetype": "text/x-python",
   "name": "python",
   "nbconvert_exporter": "python",
   "pygments_lexer": "ipython3",
   "version": "3.9.7"
  }
 },
 "nbformat": 4,
 "nbformat_minor": 5
}
